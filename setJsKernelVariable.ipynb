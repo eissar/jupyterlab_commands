{
 "cells": [
  {
   "cell_type": "code",
   "execution_count": 1,
   "metadata": {},
   "outputs": [
    {
     "ename": "ReferenceError",
     "evalue": "myBrowserData is not defined",
     "output_type": "error",
     "traceback": [
      "ReferenceError: myBrowserData is not defined"
     ]
    }
   ],
   "source": [
    "// async function setJsKernelVariable(varName, value) {\n",
    "//   // Wait for the jupyterapp to be available\n",
    "//   while (!window.jupyterapp) {\n",
    "//     await new Promise(resolve => setTimeout(resolve, 100));\n",
    "//   }\n",
    "\n",
    "//   const app = window.jupyterapp;\n",
    "//   const notebookPanel = app.shell.currentWidget;\n",
    "\n",
    "//   if (!notebookPanel || !notebookPanel.sessionContext) {\n",
    "//     console.error(\"No active notebook panel found.\");\n",
    "//     return;\n",
    "//   }\n",
    "\n",
    "//   const kernel = notebookPanel.sessionContext.session.kernel;\n",
    "//   if (!kernel) {\n",
    "//     console.error(\"Kernel is not running.\");\n",
    "//     return;\n",
    "//   }\n",
    "\n",
    "//   // Safely serialize the JavaScript value to a JSON string.\n",
    "//   // This string is also a valid JavaScript object literal.\n",
    "//   const valueAsJson = JSON.stringify(value);\n",
    "\n",
    "//   // Construct the JAVASCRIPT code to execute in the kernel.\n",
    "//   // We use `let` to declare the variable.\n",
    "//   const code = `let ${varName} = ${valueAsJson};`;\n",
    "\n",
    "//   console.log(`Executing in JS kernel: ${code}`);\n",
    "//   const future = kernel.requestExecute({ code });\n",
    "//   await future.done;\n",
    "//   console.log('Execution complete.');\n",
    "// }\n",
    "\n",
    "// // --- Example Usage ---\n",
    "// // Call this function from your browser's console.\n",
    "// setJsKernelVariable('myBrowserData', { from: 'window', timestamp: Date.now(), theme: 'dark' });\n",
    "\n",
    "\n",
    "\n",
    "console.log(JSON.stringify( myBrowserData))"
   ]
  }
 ],
 "metadata": {
  "kernelspec": {
   "display_name": "Python 3 (ipykernel)",
   "language": "python",
   "name": "python3"
  },
  "language_info": {
   "codemirror_mode": {
    "name": "ipython",
    "version": 3
   },
   "file_extension": ".py",
   "mimetype": "text/x-python",
   "name": "python",
   "nbconvert_exporter": "python",
   "pygments_lexer": "ipython3",
   "version": "3.13.7"
  }
 },
 "nbformat": 4,
 "nbformat_minor": 4
}
